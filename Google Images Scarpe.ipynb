{
 "cells": [
  {
   "cell_type": "code",
   "execution_count": 2,
   "id": "3a7660c4",
   "metadata": {},
   "outputs": [],
   "source": [
    "\n",
    "#Google Images download \n",
    "\n",
    "from selenium import webdriver\n",
    "from selenium.webdriver.common.keys import Keys\n",
    "import time\n",
    "from selenium.webdriver.common.by import By"
   ]
  },
  {
   "cell_type": "code",
   "execution_count": 7,
   "id": "8793c0ee",
   "metadata": {},
   "outputs": [],
   "source": [
    "%%capture\n",
    "\n",
    "driver = webdriver.Chrome(executable_path = \"C:\\\\Users\\\\HP\\\\Downloads\\\\chromedriver_win32 (2)\\\\chromedriver.exe\")\n",
    "driver.get('https://images.google.com/')\n",
    "driver.maximize_window() \n",
    "\n",
    "\n",
    "box = driver.find_element(by=By.XPATH, value='/html/body/div[1]/div[3]/form/div[1]/div[1]/div[1]/div/div[2]/input')\n",
    "box.send_keys('Drinking')\n",
    "box.send_keys(Keys.ENTER)\n",
    "\n",
    "#driver.find_element(by=By.XPATH , value = '//*[@id=\"hdtb-msb\"]/div[1]/div/div[2]/a').click()\n",
    "\n",
    "last_height = driver.execute_script('return document.body.scrollHeight')\n",
    "while True:\n",
    "    driver.execute_script('window.scrollTo(0,document.body.scrollHeight)')\n",
    "    time.sleep(2)\n",
    "    new_height = driver.execute_script('return document.body.scrollHeight')\n",
    "    try:\n",
    "        driver.find_element(by=By.XPATH , value = '//*[@id=\"yDmH0d\"]/div[2]/c-wiz/div[1]/div/div[1]/div[1]/div/div/span[1]').click()\n",
    "        time.sleep(2)\n",
    "    except:\n",
    "        pass\n",
    "    if new_height == last_height:\n",
    "        break\n",
    "    last_height = new_height\n",
    "    \n",
    "for i in range(1,5):\n",
    "    time.sleep(5)\n",
    "    #//*[@id=\"islrg\"]/div[1]/div['+str(i)+']/a[1]/div[1]/img\n",
    "    try:\n",
    "        driver.find_element(by=By.XPATH , value = '//*[@id=\"islrg\"]/div[1]/div['+str(i)+']/a[1]/div[1]/img').screenshot('C:\\\\Users\\\\HP\\\\Downloads\\\\Train('+str(i)+').png')\n",
    "    except:\n",
    "        pass"
   ]
  }
 ],
 "metadata": {
  "kernelspec": {
   "display_name": "Python 3 (ipykernel)",
   "language": "python",
   "name": "python3"
  },
  "language_info": {
   "codemirror_mode": {
    "name": "ipython",
    "version": 3
   },
   "file_extension": ".py",
   "mimetype": "text/x-python",
   "name": "python",
   "nbconvert_exporter": "python",
   "pygments_lexer": "ipython3",
   "version": "3.9.12"
  }
 },
 "nbformat": 4,
 "nbformat_minor": 5
}
